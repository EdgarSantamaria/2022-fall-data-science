{
 "cells": [
  {
   "cell_type": "markdown",
   "metadata": {},
   "source": [
    "# Exercise with Natural Language Processing\n",
    "\n",
    "For todays exersice we will be doing two things.  The first is to build the same model with the same data that we did in the lecture, the second will be to build a new model with new data. \n",
    "\n",
    "## PART 1: \n",
    "- 20 Newsgroups Corpus\n",
    "\n",
    "\n",
    "## PART 2:\n",
    "- Republican vs Democrat Tweet Classifier"
   ]
  },
  {
   "cell_type": "code",
   "execution_count": 1,
   "metadata": {},
   "outputs": [
    {
     "name": "stderr",
     "output_type": "stream",
     "text": [
      "[nltk_data] Downloading package stopwords to /Users/edgar/nltk_data...\n",
      "[nltk_data]   Package stopwords is already up-to-date!\n",
      "[nltk_data] Downloading package punkt to /Users/edgar/nltk_data...\n",
      "[nltk_data]   Package punkt is already up-to-date!\n",
      "[nltk_data] Downloading package wordnet to /Users/edgar/nltk_data...\n",
      "[nltk_data]   Package wordnet is already up-to-date!\n"
     ]
    }
   ],
   "source": [
    "# Import pandas for data handling\n",
    "import pandas as pd\n",
    "\n",
    "# NLTK is our Natural-Language-Took-Kit\n",
    "import nltk\n",
    "from nltk.corpus import stopwords\n",
    "from nltk import word_tokenize\n",
    "from nltk.stem import PorterStemmer\n",
    "from nltk.stem import WordNetLemmatizer\n",
    "from nltk.corpus import wordnet\n",
    "\n",
    "# Libraries for helping us with strings\n",
    "import string\n",
    "# Regular Expression Library\n",
    "import re\n",
    "\n",
    "# Import our text vectorizers\n",
    "from sklearn.feature_extraction.text import CountVectorizer\n",
    "from sklearn.feature_extraction.text import TfidfVectorizer\n",
    "\n",
    "\n",
    "# Import our classifiers\n",
    "from sklearn.naive_bayes import MultinomialNB\n",
    "from sklearn.ensemble import RandomForestClassifier\n",
    "\n",
    "\n",
    "# Import some ML helper function\n",
    "from sklearn.model_selection import train_test_split\n",
    "from sklearn.metrics import plot_confusion_matrix\n",
    "from sklearn.metrics import classification_report\n",
    "\n",
    "\n",
    "# Import our metrics to evaluate our model\n",
    "from sklearn import metrics\n",
    "from sklearn.metrics import classification_report\n",
    "\n",
    "\n",
    "# Library for plotting\n",
    "import matplotlib.pyplot as plt\n",
    "import seaborn as sns\n",
    "\n",
    "# You may need to download these from nltk\n",
    "nltk.download('stopwords')\n",
    "nltk.download('punkt')\n",
    "nltk.download('wordnet')\n",
    "stopwords = stopwords.words('english')"
   ]
  },
  {
   "cell_type": "markdown",
   "metadata": {},
   "source": [
    "## Load and display data.\n",
    "1. Load the 20-newsgroups.csv data into a dataframe.\n",
    "1. Print the shape\n",
    "1. Inspect / remove nulls and duplicates\n",
    "1. Find class balances, print out how many of each topic_category there are."
   ]
  },
  {
   "cell_type": "code",
   "execution_count": 2,
   "metadata": {},
   "outputs": [
    {
     "name": "stdout",
     "output_type": "stream",
     "text": [
      "(11314, 4)\n"
     ]
    }
   ],
   "source": [
    "# 1. Load the 20-newsgroups.csv data into a dataframe.\n",
    "# 2. Print the shape\n",
    "df = pd.read_csv('data/20-newsgroups.csv')\n",
    "print(df.shape)"
   ]
  },
  {
   "cell_type": "code",
   "execution_count": 3,
   "metadata": {},
   "outputs": [
    {
     "name": "stdout",
     "output_type": "stream",
     "text": [
      "id                0\n",
      "message           0\n",
      "topic             0\n",
      "topic_category    0\n",
      "dtype: int64 \n",
      "\n"
     ]
    },
    {
     "data": {
      "text/plain": [
       "0"
      ]
     },
     "execution_count": 3,
     "metadata": {},
     "output_type": "execute_result"
    }
   ],
   "source": [
    "# 3. Inspect / remove nulls and duplicates\n",
    "print(df.isnull().sum(),\"\\n\")\n",
    "df.duplicated().sum()"
   ]
  },
  {
   "cell_type": "code",
   "execution_count": 4,
   "metadata": {},
   "outputs": [
    {
     "data": {
      "text/plain": [
       "rec.sport.hockey            600\n",
       "soc.religion.christian      599\n",
       "rec.motorcycles             598\n",
       "rec.sport.baseball          597\n",
       "sci.crypt                   595\n",
       "rec.autos                   594\n",
       "sci.med                     594\n",
       "sci.space                   593\n",
       "comp.windows.x              593\n",
       "comp.os.ms-windows.misc     591\n",
       "sci.electronics             591\n",
       "comp.sys.ibm.pc.hardware    590\n",
       "misc.forsale                585\n",
       "comp.graphics               584\n",
       "comp.sys.mac.hardware       578\n",
       "talk.politics.mideast       564\n",
       "talk.politics.guns          546\n",
       "alt.atheism                 480\n",
       "talk.politics.misc          465\n",
       "talk.religion.misc          377\n",
       "Name: topic_category, dtype: int64"
      ]
     },
     "execution_count": 4,
     "metadata": {},
     "output_type": "execute_result"
    }
   ],
   "source": [
    "# 4. Find class balances, print out how many of each topic_category there are.\n",
    "df.topic_category.value_counts()"
   ]
  },
  {
   "cell_type": "markdown",
   "metadata": {},
   "source": [
    "# Text Pre-Processing \n",
    "(aka Feature engineering)\n",
    "1. Make a function that makes all text lowercase.\n",
    "    * Do a sanity check by feeding in a test sentence into the function. \n",
    "    \n",
    "    \n",
    "2. Make a function that removes all punctuation. \n",
    "    * Do a sanity check by feeding in a test sentence into the function. \n",
    "    \n",
    "    \n",
    "3. Make a function that removes all stopwords.\n",
    "    * Do a sanity check by feeding in a test sentence into the function. \n",
    "    \n",
    "    \n",
    "4. EXTRA CREDIT (This step only): Make a function that stemms all words. \n",
    "\n",
    "\n",
    "5. Mandatory: Make a pipeline function that applys all the text processing functions you just built.\n",
    "    * Do a sanity check by feeding in a test sentence into the pipeline. \n",
    "    \n",
    "    \n",
    "    \n",
    "6. Mandatory: Use `df['message_clean'] = df[column].apply(???)` and apply the text pipeline to your text data column. "
   ]
  },
  {
   "cell_type": "code",
   "execution_count": 5,
   "metadata": {},
   "outputs": [
    {
     "data": {
      "text/plain": [
       "'this is a sentence with lots of caps.'"
      ]
     },
     "execution_count": 5,
     "metadata": {},
     "output_type": "execute_result"
    }
   ],
   "source": [
    "# 1. Make a function that makes all text lowercase.\n",
    "\n",
    "test_string = 'This is A SENTENCE with LOTS OF CAPS.'\n",
    "def make_lower(a_string):\n",
    "    return a_string.lower()\n",
    "\n",
    "make_lower(test_string)"
   ]
  },
  {
   "cell_type": "code",
   "execution_count": 6,
   "metadata": {},
   "outputs": [
    {
     "data": {
      "text/plain": [
       "'This is a sentence 50 With lots of punctuation  other things'"
      ]
     },
     "execution_count": 6,
     "metadata": {},
     "output_type": "execute_result"
    }
   ],
   "source": [
    "# 2. Make a function that removes all punctuation. \n",
    "\n",
    "\n",
    "test_string = 'This is a sentence! 50 With lots of punctuation??? & other #things.'\n",
    "def remove_punc(a_string):\n",
    "    a_string = re.sub(r'[^\\w\\s]','',a_string)\n",
    "    return a_string\n",
    "\n",
    "remove_punc(test_string)"
   ]
  },
  {
   "cell_type": "code",
   "execution_count": 7,
   "metadata": {},
   "outputs": [
    {
     "data": {
      "text/plain": [
       "'This sentence ! With different stopwords added .'"
      ]
     },
     "execution_count": 7,
     "metadata": {},
     "output_type": "execute_result"
    }
   ],
   "source": [
    "# 3. Make a function that removes all stopwords.\n",
    "\n",
    "test_string = 'This is a sentence! With some different stopwords i have added in here.'\n",
    "\n",
    "def remove_stopwords(a_string):\n",
    "    words = word_tokenize(a_string)\n",
    "    valid_words = []\n",
    "    \n",
    "    for word in words:\n",
    "        if word not in stopwords:\n",
    "            valid_words.append(word)\n",
    "        \n",
    "    a_string = ' '.join(valid_words)\n",
    "    return a_string\n",
    "remove_stopwords(test_string)"
   ]
  },
  {
   "cell_type": "code",
   "execution_count": 8,
   "metadata": {},
   "outputs": [
    {
     "data": {
      "text/plain": [
       "'I play and start play with player and we all love to play with play'"
      ]
     },
     "execution_count": 8,
     "metadata": {},
     "output_type": "execute_result"
    }
   ],
   "source": [
    "# 4. EXTRA CREDIT: Make a function that stemms all words. \n",
    "porter = PorterStemmer()\n",
    "test_string = 'I played and started playing with players and we all love to play with plays'\n",
    "\n",
    "def stem_words(a_string):\n",
    "    words = word_tokenize(a_string)\n",
    "    valid_words = []\n",
    "    \n",
    "    for word in words:\n",
    "        valid_words.append(porter.stem(word))\n",
    "        \n",
    "    return ' '.join(valid_words)\n",
    "stem_words(test_string)"
   ]
  },
  {
   "cell_type": "code",
   "execution_count": 9,
   "metadata": {},
   "outputs": [
    {
     "data": {
      "text/plain": [
       "'play start play player love play play'"
      ]
     },
     "execution_count": 9,
     "metadata": {},
     "output_type": "execute_result"
    }
   ],
   "source": [
    "# 5. MANDATORY: Make a pipeline function that applys all the text processing functions you just built.\n",
    "\n",
    "\n",
    "test_string = 'I played and started playing with players and we all love to play with plays'\n",
    "def apply_all(a_string):\n",
    "    a_string = make_lower(a_string)\n",
    "    a_string = remove_punc(a_string)\n",
    "    a_string = remove_stopwords(a_string)\n",
    "    a_string = stem_words(a_string)\n",
    "    return a_string\n",
    "apply_all(test_string)"
   ]
  },
  {
   "cell_type": "code",
   "execution_count": 10,
   "metadata": {},
   "outputs": [
    {
     "data": {
      "text/plain": [
       "0    lerxstwamumdedu where thing subject car nntppo...\n",
       "1    guykuocarsonuwashingtonedu guy kuo subject si ...\n",
       "2    twillisececnpurdueedu thoma e willi subject pb...\n",
       "3    jgreenamb joe green subject weitek p9000 organ...\n",
       "4    jcmheadcfaharvardedu jonathan mcdowel subject ...\n",
       "Name: message_clean, dtype: object"
      ]
     },
     "execution_count": 10,
     "metadata": {},
     "output_type": "execute_result"
    }
   ],
   "source": [
    "# 6. Mandatory: Use `df[column].apply(???)` and apply the text pipeline to your text data column. \n",
    "df['message_clean'] = df['message'].apply(apply_all)\n",
    "df['message_clean'].head()"
   ]
  },
  {
   "cell_type": "markdown",
   "metadata": {},
   "source": [
    "# Text Vectorization\n",
    "\n",
    "1. Define your `X` and `y` data. \n",
    "\n",
    "\n",
    "2. Initialize a vectorizer (you can use TFIDF or BOW, it is your choice).\n",
    "    * Do you want to use n-grams..?\n",
    "\n",
    "\n",
    "3. Fit your vectorizer using your X data.\n",
    "    * Remember, this process happens IN PLACE.\n",
    "\n",
    "\n",
    "4. Transform your X data using your fitted vectorizer. \n",
    "    * `X = vectorizer.???`\n",
    "\n",
    "\n",
    "\n",
    "5. Print the shape of your X.  How many features (aka columns) do you have?"
   ]
  },
  {
   "cell_type": "code",
   "execution_count": 11,
   "metadata": {},
   "outputs": [],
   "source": [
    "# 1. Define your `X` and `y` data. \n",
    "\n",
    "X = df['message_clean'].values\n",
    "y = df['topic_category'].values"
   ]
  },
  {
   "cell_type": "code",
   "execution_count": 12,
   "metadata": {},
   "outputs": [],
   "source": [
    "# 2. Initialize a vectorizer (you can use TFIDF or BOW, it is your choice).\n",
    "\n",
    "vectorizer = TfidfVectorizer()\n",
    "\n",
    "\n"
   ]
  },
  {
   "cell_type": "code",
   "execution_count": 13,
   "metadata": {},
   "outputs": [
    {
     "data": {
      "text/plain": [
       "TfidfVectorizer()"
      ]
     },
     "execution_count": 13,
     "metadata": {},
     "output_type": "execute_result"
    }
   ],
   "source": [
    "# 3. Fit your vectorizer using your X data\n",
    "\n",
    "vectorizer.fit(X)"
   ]
  },
  {
   "cell_type": "code",
   "execution_count": 14,
   "metadata": {},
   "outputs": [],
   "source": [
    "# 4. Transform your X data using your fitted vectorizer. \n",
    "\n",
    "X = vectorizer.transform(X)"
   ]
  },
  {
   "cell_type": "code",
   "execution_count": 15,
   "metadata": {},
   "outputs": [
    {
     "name": "stdout",
     "output_type": "stream",
     "text": [
      "(11314, 119708)\n"
     ]
    }
   ],
   "source": [
    "# 5. Print the shape of your X.  How many features (aka columns) do you have?\n",
    "\n",
    "print(X.shape)"
   ]
  },
  {
   "cell_type": "markdown",
   "metadata": {},
   "source": [
    "# Split your data into Training and Testing data. "
   ]
  },
  {
   "cell_type": "code",
   "execution_count": 16,
   "metadata": {},
   "outputs": [],
   "source": [
    "# Split our data into testing and training like always. \n",
    "X_train, X_test, y_train, y_test = train_test_split(X, y, test_size = 0.2, random_state = 42)"
   ]
  },
  {
   "cell_type": "markdown",
   "metadata": {},
   "source": [
    "___\n",
    "# Build and Train Model\n",
    "Use Multinomial Naive Bayes to classify these documents. \n",
    "\n",
    "1. Initalize an empty model. \n",
    "2. Fit the model with our training data.\n",
    "\n",
    "\n",
    "Experiment with different alphas.  Use the alpha gives you the best result.\n",
    "\n",
    "EXTRA CREDIT:  Use grid search to programmatically do this for you. "
   ]
  },
  {
   "cell_type": "code",
   "execution_count": 17,
   "metadata": {},
   "outputs": [],
   "source": [
    "# 1. Initalize an empty model. \n",
    "model = MultinomialNB()\n",
    "\n"
   ]
  },
  {
   "cell_type": "code",
   "execution_count": 18,
   "metadata": {},
   "outputs": [
    {
     "data": {
      "text/plain": [
       "MultinomialNB()"
      ]
     },
     "execution_count": 18,
     "metadata": {},
     "output_type": "execute_result"
    }
   ],
   "source": [
    "# Fit our model with our training data.\n",
    "\n",
    "model.fit(X_train, y_train)\n"
   ]
  },
  {
   "cell_type": "markdown",
   "metadata": {},
   "source": [
    "# Evaluate the model.\n",
    "\n",
    "1. Make new predicitions using our test data. \n",
    "2. Print the accuracy of the model. \n",
    "3. Print the confusion matrix of our predictions. \n",
    "4. Using `classification_report` print the evaluation results for all the classes. \n",
    "\n"
   ]
  },
  {
   "cell_type": "code",
   "execution_count": 19,
   "metadata": {},
   "outputs": [],
   "source": [
    "# 1. Make new predictions of our testing data. \n",
    "\n",
    "y_pred = model.predict(X_test)\n",
    "y_pred_prob = model.predict_proba(X_test)\n",
    "\n"
   ]
  },
  {
   "cell_type": "code",
   "execution_count": 20,
   "metadata": {},
   "outputs": [
    {
     "name": "stdout",
     "output_type": "stream",
     "text": [
      "Model Accuracy: 0.869642\n"
     ]
    }
   ],
   "source": [
    "# 2. Print the accuracy of the model. \n",
    "accuracy = model.score(X_test, y_test)\n",
    "\n",
    "print(\"Model Accuracy: %f\" % accuracy)"
   ]
  },
  {
   "cell_type": "code",
   "execution_count": 21,
   "metadata": {},
   "outputs": [
    {
     "data": {
      "text/plain": [
       "<sklearn.metrics._plot.confusion_matrix.ConfusionMatrixDisplay at 0x7f90fa4a7760>"
      ]
     },
     "execution_count": 21,
     "metadata": {},
     "output_type": "execute_result"
    },
    {
     "data": {
      "image/png": "[encoded data removed]",
      "text/plain": [
       "<Figure size 1512x1512 with 2 Axes>"
      ]
     },
     "metadata": {
      "needs_background": "light"
     },
     "output_type": "display_data"
    }
   ],
   "source": [
    "# 3. Plot the confusion matrix of our predictions\n",
    "fig, ax = plt.subplots(figsize = (21,21))\n",
    "\n",
    "disp = plot_confusion_matrix(model, X_test, y_test, display_labels = model.classes_, cmap = plt.cm.Blues, ax = ax)\n",
    "\n",
    "plt.xticks(rotation = 90)\n",
    "disp\n"
   ]
  },
  {
   "cell_type": "code",
   "execution_count": 22,
   "metadata": {},
   "outputs": [
    {
     "name": "stdout",
     "output_type": "stream",
     "text": [
      "                          precision    recall  f1-score   support\n",
      "\n",
      "             alt.atheism       0.93      0.82      0.87        97\n",
      "           comp.graphics       0.82      0.84      0.83       104\n",
      " comp.os.ms-windows.misc       0.86      0.82      0.84       115\n",
      "comp.sys.ibm.pc.hardware       0.68      0.83      0.75       123\n",
      "   comp.sys.mac.hardware       0.96      0.80      0.87       126\n",
      "          comp.windows.x       0.86      0.91      0.88       106\n",
      "            misc.forsale       0.89      0.73      0.80       109\n",
      "               rec.autos       0.93      0.91      0.92       139\n",
      "         rec.motorcycles       0.93      0.93      0.93       122\n",
      "      rec.sport.baseball       0.96      0.96      0.96       102\n",
      "        rec.sport.hockey       0.95      0.96      0.96       108\n",
      "               sci.crypt       0.83      1.00      0.91       125\n",
      "         sci.electronics       0.90      0.85      0.87       114\n",
      "                 sci.med       0.98      0.94      0.96       119\n",
      "               sci.space       0.97      0.98      0.98       127\n",
      "  soc.religion.christian       0.61      0.95      0.74       122\n",
      "      talk.politics.guns       0.84      0.98      0.91       121\n",
      "   talk.politics.mideast       0.89      0.98      0.93       102\n",
      "      talk.politics.misc       0.97      0.71      0.82       107\n",
      "      talk.religion.misc       1.00      0.20      0.33        75\n",
      "\n",
      "                accuracy                           0.87      2263\n",
      "               macro avg       0.89      0.86      0.85      2263\n",
      "            weighted avg       0.89      0.87      0.86      2263\n",
      "\n"
     ]
    }
   ],
   "source": [
    "# 4. Using `classification_report` print the evaluation results for all the classes. \n",
    "\n",
    "print(classification_report(y_test, y_pred, target_names = model.classes_))"
   ]
  },
  {
   "cell_type": "markdown",
   "metadata": {},
   "source": [
    "# Manual predicition\n",
    "Write a new sentence that you think will be classified as talk.politics.guns. \n",
    "1. Apply the text pipeline to your sentence\n",
    "2. Transform your cleaned text using the `X = vectorizer.transform([your_text])`\n",
    "    * Note, the `transform` function accepts a list and not a individual string.\n",
    "3. Use the model to predict your new `X`. \n",
    "4. Print the prediction"
   ]
  },
  {
   "cell_type": "code",
   "execution_count": 23,
   "metadata": {},
   "outputs": [
    {
     "data": {
      "text/plain": [
       "array(['talk.politics.guns'], dtype='<U24')"
      ]
     },
     "execution_count": 23,
     "metadata": {},
     "output_type": "execute_result"
    }
   ],
   "source": [
    "my_sentence = 'guns should be outlawed in this country'\n",
    "\n",
    "# 1. Apply the text pipeline to your sentence\n",
    "my_sentence = apply_all(my_sentence)\n",
    "# 2. Transform your cleaned text using the `X = vectorizer.transform([your_text])`\\\n",
    "X = vectorizer.transform([my_sentence])\n",
    "# 3. Use the model to predict your new `X`. \n",
    "my_pred = model.predict(X)\n",
    "# 4. Print the prediction\n",
    "my_pred"
   ]
  },
  {
   "cell_type": "markdown",
   "metadata": {},
   "source": [
    "___\n",
    "# PART 2: Twitter Data\n",
    "This part of the exercise is un-guided on purpose.  \n",
    "\n",
    "Using the `dem-vs-rep-tweets.csv` build a classifier to determine if a tweet was written by a democrat or republican. \n",
    "\n",
    "Can you get an f1-score higher than %82"
   ]
  },
  {
   "cell_type": "code",
   "execution_count": 24,
   "metadata": {},
   "outputs": [
    {
     "data": {
      "text/plain": [
       "(86460, 3)"
      ]
     },
     "execution_count": 24,
     "metadata": {},
     "output_type": "execute_result"
    }
   ],
   "source": [
    "# 1. Load the 20-newsgroups.csv data into a dataframe.\n",
    "# 2. Print the shape\n",
    "df = pd.read_csv('data/dem-vs-rep-tweets.csv')\n",
    "\n",
    "df.shape\n"
   ]
  },
  {
   "cell_type": "code",
   "execution_count": 25,
   "metadata": {},
   "outputs": [
    {
     "name": "stdout",
     "output_type": "stream",
     "text": [
      "Party     0\n",
      "Handle    0\n",
      "Tweet     0\n",
      "dtype: int64\n"
     ]
    }
   ],
   "source": [
    "#find any null values\n",
    "print(df.isnull().sum())"
   ]
  },
  {
   "cell_type": "code",
   "execution_count": 26,
   "metadata": {},
   "outputs": [
    {
     "data": {
      "text/html": [
       "<div>\n",
       "<style scoped>\n",
       "    .dataframe tbody tr th:only-of-type {\n",
       "        vertical-align: middle;\n",
       "    }\n",
       "\n",
       "    .dataframe tbody tr th {\n",
       "        vertical-align: top;\n",
       "    }\n",
       "\n",
       "    .dataframe thead th {\n",
       "        text-align: right;\n",
       "    }\n",
       "</style>\n",
       "<table border=\"1\" class=\"dataframe\">\n",
       "  <thead>\n",
       "    <tr style=\"text-align: right;\">\n",
       "      <th></th>\n",
       "      <th>Party</th>\n",
       "      <th>Handle</th>\n",
       "      <th>Tweet</th>\n",
       "    </tr>\n",
       "  </thead>\n",
       "  <tbody>\n",
       "    <tr>\n",
       "      <th>0</th>\n",
       "      <td>Democrat</td>\n",
       "      <td>RepDarrenSoto</td>\n",
       "      <td>Today, Senate Dems vote to #SaveTheInternet. P...</td>\n",
       "    </tr>\n",
       "    <tr>\n",
       "      <th>1</th>\n",
       "      <td>Democrat</td>\n",
       "      <td>RepDarrenSoto</td>\n",
       "      <td>RT @WinterHavenSun: Winter Haven resident / Al...</td>\n",
       "    </tr>\n",
       "    <tr>\n",
       "      <th>2</th>\n",
       "      <td>Democrat</td>\n",
       "      <td>RepDarrenSoto</td>\n",
       "      <td>RT @NBCLatino: .@RepDarrenSoto noted that Hurr...</td>\n",
       "    </tr>\n",
       "    <tr>\n",
       "      <th>3</th>\n",
       "      <td>Democrat</td>\n",
       "      <td>RepDarrenSoto</td>\n",
       "      <td>RT @NALCABPolicy: Meeting with @RepDarrenSoto ...</td>\n",
       "    </tr>\n",
       "    <tr>\n",
       "      <th>4</th>\n",
       "      <td>Democrat</td>\n",
       "      <td>RepDarrenSoto</td>\n",
       "      <td>RT @Vegalteno: Hurricane season starts on June...</td>\n",
       "    </tr>\n",
       "  </tbody>\n",
       "</table>\n",
       "</div>"
      ],
      "text/plain": [
       "      Party         Handle                                              Tweet\n",
       "0  Democrat  RepDarrenSoto  Today, Senate Dems vote to #SaveTheInternet. P...\n",
       "1  Democrat  RepDarrenSoto  RT @WinterHavenSun: Winter Haven resident / Al...\n",
       "2  Democrat  RepDarrenSoto  RT @NBCLatino: .@RepDarrenSoto noted that Hurr...\n",
       "3  Democrat  RepDarrenSoto  RT @NALCABPolicy: Meeting with @RepDarrenSoto ...\n",
       "4  Democrat  RepDarrenSoto  RT @Vegalteno: Hurricane season starts on June..."
      ]
     },
     "execution_count": 26,
     "metadata": {},
     "output_type": "execute_result"
    }
   ],
   "source": [
    "df.head()"
   ]
  },
  {
   "cell_type": "code",
   "execution_count": 27,
   "metadata": {},
   "outputs": [
    {
     "data": {
      "text/plain": [
       "0    today senat dem vote savetheinternet proud sup...\n",
       "1    rt winterhavensun winter resid alta vista teac...\n",
       "2    rt nbclatino repdarrensoto note hurrican maria...\n",
       "3    rt nalcabpolici meet repdarrensoto thank take ...\n",
       "4    rt vegalteno hurrican season start june 1st pu...\n",
       "Name: cleaned_tweets, dtype: object"
      ]
     },
     "execution_count": 27,
     "metadata": {},
     "output_type": "execute_result"
    }
   ],
   "source": [
    "#feature engineering create a new dataframe of cleaned tweets\n",
    "#passed through our text pipeline\n",
    "\n",
    "df['cleaned_tweets'] = df['Tweet'].apply(apply_all)\n",
    "df['cleaned_tweets'].head()"
   ]
  },
  {
   "cell_type": "code",
   "execution_count": 28,
   "metadata": {},
   "outputs": [],
   "source": [
    "#define our X and y values\n",
    "X = df['cleaned_tweets'].values\n",
    "y = df['Party'].values"
   ]
  },
  {
   "cell_type": "code",
   "execution_count": 29,
   "metadata": {},
   "outputs": [
    {
     "data": {
      "text/plain": [
       "TfidfVectorizer()"
      ]
     },
     "execution_count": 29,
     "metadata": {},
     "output_type": "execute_result"
    }
   ],
   "source": [
    "# fit our vectorizer using our X data\n",
    "vectorizer.fit(X)"
   ]
  },
  {
   "cell_type": "code",
   "execution_count": 30,
   "metadata": {},
   "outputs": [],
   "source": [
    "#redifine our X value with vector transform\n",
    "X = vectorizer.transform(X)"
   ]
  },
  {
   "cell_type": "code",
   "execution_count": 31,
   "metadata": {},
   "outputs": [
    {
     "name": "stdout",
     "output_type": "stream",
     "text": [
      "(86460, 121124)\n"
     ]
    }
   ],
   "source": [
    "#check our X's shape\n",
    "print(X.shape)"
   ]
  },
  {
   "cell_type": "code",
   "execution_count": 32,
   "metadata": {},
   "outputs": [],
   "source": [
    "#split and train our data\n",
    "X_train, X_test, y_train, y_test = train_test_split(X ,y, test_size = 0.2, random_state = 42)"
   ]
  },
  {
   "cell_type": "code",
   "execution_count": 33,
   "metadata": {},
   "outputs": [],
   "source": [
    "#create an empty model\n",
    "model = MultinomialNB()"
   ]
  },
  {
   "cell_type": "code",
   "execution_count": 34,
   "metadata": {},
   "outputs": [
    {
     "data": {
      "text/plain": [
       "MultinomialNB()"
      ]
     },
     "execution_count": 34,
     "metadata": {},
     "output_type": "execute_result"
    }
   ],
   "source": [
    "#fit our model with our data\n",
    "model.fit(X_train, y_train)"
   ]
  },
  {
   "cell_type": "code",
   "execution_count": 35,
   "metadata": {},
   "outputs": [],
   "source": [
    "#make our predicitons\n",
    "y_pred = model.predict(X_test)\n",
    "y_pred_prob = model.predict_proba(X_test)"
   ]
  },
  {
   "cell_type": "code",
   "execution_count": 36,
   "metadata": {},
   "outputs": [
    {
     "name": "stdout",
     "output_type": "stream",
     "text": [
      "Accuracy: 0.801122\n"
     ]
    }
   ],
   "source": [
    "#check our accuracy\n",
    "accuracy = model.score(X_test, y_test)\n",
    "print('Accuracy: %f' %accuracy)"
   ]
  },
  {
   "cell_type": "code",
   "execution_count": 37,
   "metadata": {},
   "outputs": [
    {
     "name": "stdout",
     "output_type": "stream",
     "text": [
      "              precision    recall  f1-score   support\n",
      "\n",
      "    Democrat       0.83      0.75      0.79      8506\n",
      "  Republican       0.78      0.85      0.81      8786\n",
      "\n",
      "    accuracy                           0.80     17292\n",
      "   macro avg       0.80      0.80      0.80     17292\n",
      "weighted avg       0.80      0.80      0.80     17292\n",
      "\n"
     ]
    }
   ],
   "source": [
    "#print the classification report\n",
    "print(classification_report(y_test, y_pred, target_names = model.classes_))"
   ]
  },
  {
   "cell_type": "code",
   "execution_count": 38,
   "metadata": {},
   "outputs": [
    {
     "name": "stdout",
     "output_type": "stream",
     "text": [
      "['Republican']\n"
     ]
    }
   ],
   "source": [
    "tweet = 'abortion should be illegal'\n",
    "tweet = apply_all(tweet)\n",
    "X = vectorizer.transform([tweet])\n",
    "tweet_party = model.predict(X)\n",
    "print(tweet_party)"
   ]
  },
  {
   "cell_type": "code",
   "execution_count": null,
   "metadata": {},
   "outputs": [],
   "source": []
  }
 ],
 "metadata": {
  "kernelspec": {
   "display_name": "Python 3",
   "language": "python",
   "name": "python3"
  },
  "language_info": {
   "codemirror_mode": {
    "name": "ipython",
    "version": 3
   },
   "file_extension": ".py",
   "mimetype": "text/x-python",
   "name": "python",
   "nbconvert_exporter": "python",
   "pygments_lexer": "ipython3",
   "version": "3.8.3"
  }
 },
 "nbformat": 4,
 "nbformat_minor": 2
}
